{
 "cells": [
  {
   "cell_type": "code",
   "execution_count": 1,
   "metadata": {},
   "outputs": [
    {
     "data": {
      "text/plain": [
       "<Trap.Trap at 0x255ac0a04c0>"
      ]
     },
     "execution_count": 1,
     "metadata": {},
     "output_type": "execute_result"
    }
   ],
   "source": [
    "from World import *\n",
    "import matplotlib.pyplot as plt\n",
    "import numpy as np\n",
    "import seaborn as sns\n",
    "from Trap import Trap\n",
    "\n",
    "num_agents = 100\n",
    "width = 10\n",
    "height = 10\n",
    "\n",
    "sim = WorldModel(num_agents,width,height)\n",
    "sim.grid[1][1]\n",
    "# #positions = sim.datacollector.get_agent_vars_dataframe()\n",
    "# #plt.scatter(positions['x'], positions['y'])\n",
    "# sim.grid[1][1]\n",
    "# sim.grid.get_neighbors(sim.trap.pos, moore=True, include_center=True)"
   ]
  },
  {
   "cell_type": "code",
   "execution_count": 2,
   "metadata": {},
   "outputs": [
    {
     "data": {
      "text/plain": [
       "<Trap.Trap at 0x255ac0a04c0>"
      ]
     },
     "execution_count": 2,
     "metadata": {},
     "output_type": "execute_result"
    }
   ],
   "source": [
    "sim.grid[1][1]"
   ]
  },
  {
   "cell_type": "code",
   "execution_count": 11,
   "metadata": {},
   "outputs": [
    {
     "data": {
      "text/plain": [
       "OrderedDict([(0.07319272182314474, <Midge.Midge at 0x2552a35ecd0>),\n",
       "             (0.6562703353245807, <Midge.Midge at 0x255abfdc430>),\n",
       "             (0.845408836559842, <Midge.Midge at 0x255abfdc490>),\n",
       "             (0.21341981693307244, <Midge.Midge at 0x255abfdc4c0>),\n",
       "             (0.6600401194994063, <Midge.Midge at 0x255abfdc6a0>),\n",
       "             (0.45501022877226327, <Midge.Midge at 0x255abfdc700>),\n",
       "             (0.41849610368814705, <Midge.Midge at 0x255abfdcaf0>),\n",
       "             (0.4089803883732005, <Midge.Midge at 0x255abfdcb50>),\n",
       "             (0.6146412589050064, <Midge.Midge at 0x255abfdcbb0>),\n",
       "             (0.7721936300927917, <Midge.Midge at 0x255ac09b280>),\n",
       "             (0.5459106587125929, <Midge.Midge at 0x255ac09b2e0>),\n",
       "             (0.49654568849053915, <Midge.Midge at 0x255ac09b340>),\n",
       "             (0.046240523570822756, <Midge.Midge at 0x255ac09b3a0>),\n",
       "             (0.5529830463712301, <Midge.Midge at 0x255ac09b400>),\n",
       "             (0.4709641776493231, <Midge.Midge at 0x255ac09b460>),\n",
       "             (0.9632258796564169, <Midge.Midge at 0x255ac09b4c0>),\n",
       "             (0.4792943265733217, <Midge.Midge at 0x255ac09b520>),\n",
       "             (0.1912810254978652, <Midge.Midge at 0x255ac09b580>),\n",
       "             (0.8511512117504139, <Midge.Midge at 0x255ac09b5e0>),\n",
       "             (0.7275502004179719, <Midge.Midge at 0x255ac09b640>),\n",
       "             (0.07922864146325781, <Midge.Midge at 0x255ac09b6a0>),\n",
       "             (0.719793744894149, <Midge.Midge at 0x255ac09b700>),\n",
       "             (0.18326360447889434, <Midge.Midge at 0x255ac09b760>),\n",
       "             (0.7335501722989833, <Midge.Midge at 0x255ac09b7c0>),\n",
       "             (0.01184282902343825, <Midge.Midge at 0x255ac09b820>),\n",
       "             (0.22237402014631513, <Midge.Midge at 0x255ac09b880>),\n",
       "             (0.6027938657299018, <Midge.Midge at 0x255ac09b8e0>),\n",
       "             (0.3263662945688942, <Midge.Midge at 0x255ac09b940>),\n",
       "             (0.7545742043175708, <Midge.Midge at 0x255ac09b9a0>),\n",
       "             (0.24461466928831355, <Midge.Midge at 0x255ac09ba00>),\n",
       "             (0.6731972687154645, <Midge.Midge at 0x255ac09ba60>),\n",
       "             (0.3187513222288748, <Midge.Midge at 0x255ac09bac0>),\n",
       "             (0.860222168216965, <Midge.Midge at 0x255ac09bb20>),\n",
       "             (0.7338191965028891, <Midge.Midge at 0x255ac09bb80>),\n",
       "             (0.8373626127097513, <Midge.Midge at 0x255ac09bbe0>),\n",
       "             (0.17565770851022888, <Midge.Midge at 0x255ac09bc40>),\n",
       "             (0.08591641717214882, <Midge.Midge at 0x255ac09bca0>),\n",
       "             (0.11440195346276072, <Midge.Midge at 0x255ac09bd00>),\n",
       "             (0.3771535672562921, <Midge.Midge at 0x255ac09bd60>),\n",
       "             (0.758953464601701, <Midge.Midge at 0x255ac09bdc0>),\n",
       "             (0.6783824366065861, <Midge.Midge at 0x255ac09be20>),\n",
       "             (0.7869295856040733, <Midge.Midge at 0x255ac09be80>),\n",
       "             (0.060332973491454944, <Midge.Midge at 0x255ac09bee0>),\n",
       "             (0.021193641867321422, <Midge.Midge at 0x255ac09bf40>),\n",
       "             (0.9324232166582269, <Midge.Midge at 0x255ac09bfa0>),\n",
       "             (0.8406211248422184, <Midge.Midge at 0x255ac098040>),\n",
       "             (0.033895217996958604, <Midge.Midge at 0x255ac0980a0>),\n",
       "             (0.16520834245106397, <Midge.Midge at 0x255ac098100>),\n",
       "             (0.273489018809314, <Midge.Midge at 0x255ac098160>),\n",
       "             (0.6169653622505084, <Midge.Midge at 0x255ac0981c0>),\n",
       "             (0.6279495624344829, <Midge.Midge at 0x255ac098220>),\n",
       "             (0.6926968075646016, <Midge.Midge at 0x255ac098280>),\n",
       "             (0.8310040352413073, <Midge.Midge at 0x255ac0982e0>),\n",
       "             (0.5155232129304501, <Midge.Midge at 0x255ac098340>),\n",
       "             (0.2484649270246908, <Midge.Midge at 0x255ac0983a0>),\n",
       "             (0.08983965755791468, <Midge.Midge at 0x255ac098400>),\n",
       "             (0.2749457163903094, <Midge.Midge at 0x255ac098460>),\n",
       "             (0.7441930624083185, <Midge.Midge at 0x255ac0984c0>),\n",
       "             (0.6646371202686204, <Midge.Midge at 0x255ac098520>),\n",
       "             (0.8267218678561342, <Midge.Midge at 0x255ac098580>),\n",
       "             (0.36295606533069735, <Midge.Midge at 0x255ac0985e0>),\n",
       "             (0.4655091626489035, <Midge.Midge at 0x255ac098640>),\n",
       "             (0.8267736603563016, <Midge.Midge at 0x255ac0986a0>),\n",
       "             (0.7082342529335927, <Midge.Midge at 0x255ac098700>),\n",
       "             (0.44643561916955177, <Midge.Midge at 0x255ac098760>),\n",
       "             (0.7923367853804465, <Midge.Midge at 0x255ac0987c0>),\n",
       "             (0.49565853476235144, <Midge.Midge at 0x255ac098820>),\n",
       "             (0.7457509768529397, <Midge.Midge at 0x255ac098880>),\n",
       "             (0.8714880468788934, <Midge.Midge at 0x255ac0988e0>),\n",
       "             (0.5527834988707095, <Midge.Midge at 0x255ac098940>),\n",
       "             (0.7334959001745747, <Midge.Midge at 0x255ac0989a0>),\n",
       "             (0.3348458061792964, <Midge.Midge at 0x255ac098a00>),\n",
       "             (0.6694733457339338, <Midge.Midge at 0x255ac098a60>),\n",
       "             (0.23699537125410963, <Midge.Midge at 0x255ac098ac0>),\n",
       "             (0.23617077629228023, <Midge.Midge at 0x255ac098b20>),\n",
       "             (0.3635915948493672, <Midge.Midge at 0x255ac098b80>),\n",
       "             (0.7497892220503933, <Midge.Midge at 0x255ac098be0>),\n",
       "             (0.04416653589467101, <Midge.Midge at 0x255ac098c40>),\n",
       "             (0.7531636939041851, <Midge.Midge at 0x255ac098ca0>),\n",
       "             (0.3462451929058722, <Midge.Midge at 0x255ac098d00>),\n",
       "             (0.4257334584536764, <Midge.Midge at 0x255ac098d60>),\n",
       "             (0.7364241507163442, <Midge.Midge at 0x255ac098dc0>),\n",
       "             (0.4553310464141096, <Midge.Midge at 0x255ac098e20>),\n",
       "             (0.49736869513554105, <Midge.Midge at 0x255ac098e80>),\n",
       "             (0.3286581975028082, <Midge.Midge at 0x255ac098ee0>),\n",
       "             (0.5803695540676672, <Midge.Midge at 0x255ac098f40>),\n",
       "             (0.12858517391827406, <Midge.Midge at 0x255ac098fa0>),\n",
       "             (0.0627102383924899, <Midge.Midge at 0x255ac0a0040>),\n",
       "             (0.11532880419315117, <Midge.Midge at 0x255ac0a00a0>),\n",
       "             (0.24717576817431408, <Midge.Midge at 0x255ac0a0100>),\n",
       "             (0.29398032724267653, <Midge.Midge at 0x255ac0a0160>),\n",
       "             (0.6492913226738857, <Midge.Midge at 0x255ac0a01c0>),\n",
       "             (0.8992702764808176, <Midge.Midge at 0x255ac0a0220>),\n",
       "             (0.9678392007302, <Midge.Midge at 0x255ac0a0280>),\n",
       "             (0.8104966298451911, <Midge.Midge at 0x255ac0a02e0>),\n",
       "             (0.5594674096276152, <Midge.Midge at 0x255ac0a0340>),\n",
       "             (0.788411453730773, <Midge.Midge at 0x255ac0a03a0>),\n",
       "             (0.5365853300139337, <Midge.Midge at 0x255ac0a0400>),\n",
       "             (0.44936026955488095, <Midge.Midge at 0x255ac0a0460>),\n",
       "             (0.29164046617813844, <Trap.Trap at 0x255ac0a04c0>)])"
      ]
     },
     "execution_count": 11,
     "metadata": {},
     "output_type": "execute_result"
    }
   ],
   "source": [
    "sim.schedule._agents"
   ]
  },
  {
   "cell_type": "code",
   "execution_count": 12,
   "metadata": {},
   "outputs": [
    {
     "ename": "KeyError",
     "evalue": "0.5537378398264245",
     "output_type": "error",
     "traceback": [
      "\u001b[1;31m---------------------------------------------------------------------------\u001b[0m",
      "\u001b[1;31mKeyError\u001b[0m                                  Traceback (most recent call last)",
      "\u001b[1;32m<ipython-input-12-de68f876036c>\u001b[0m in \u001b[0;36m<module>\u001b[1;34m\u001b[0m\n\u001b[0;32m      2\u001b[0m \u001b[1;32mfor\u001b[0m \u001b[0mi\u001b[0m \u001b[1;32min\u001b[0m \u001b[0msim\u001b[0m\u001b[1;33m.\u001b[0m\u001b[0mkill_midges\u001b[0m\u001b[1;33m:\u001b[0m\u001b[1;33m\u001b[0m\u001b[1;33m\u001b[0m\u001b[0m\n\u001b[0;32m      3\u001b[0m     \u001b[0msim\u001b[0m\u001b[1;33m.\u001b[0m\u001b[0mgrid\u001b[0m\u001b[1;33m.\u001b[0m\u001b[0m_remove_agent\u001b[0m\u001b[1;33m(\u001b[0m\u001b[0mi\u001b[0m\u001b[1;33m.\u001b[0m\u001b[0mpos\u001b[0m\u001b[1;33m,\u001b[0m \u001b[0mi\u001b[0m\u001b[1;33m)\u001b[0m\u001b[1;33m\u001b[0m\u001b[1;33m\u001b[0m\u001b[0m\n\u001b[1;32m----> 4\u001b[1;33m     \u001b[0msim\u001b[0m\u001b[1;33m.\u001b[0m\u001b[0mschedule\u001b[0m\u001b[1;33m.\u001b[0m\u001b[0mremove\u001b[0m\u001b[1;33m(\u001b[0m\u001b[0mi\u001b[0m\u001b[1;33m)\u001b[0m\u001b[1;33m\u001b[0m\u001b[1;33m\u001b[0m\u001b[0m\n\u001b[0m",
      "\u001b[1;32mc:\\users\\13525\\appdata\\local\\programs\\python\\python39\\lib\\site-packages\\mesa\\time.py\u001b[0m in \u001b[0;36mremove\u001b[1;34m(self, agent)\u001b[0m\n\u001b[0;32m     77\u001b[0m \u001b[1;33m\u001b[0m\u001b[0m\n\u001b[0;32m     78\u001b[0m         \"\"\"\n\u001b[1;32m---> 79\u001b[1;33m         \u001b[1;32mdel\u001b[0m \u001b[0mself\u001b[0m\u001b[1;33m.\u001b[0m\u001b[0m_agents\u001b[0m\u001b[1;33m[\u001b[0m\u001b[0magent\u001b[0m\u001b[1;33m.\u001b[0m\u001b[0munique_id\u001b[0m\u001b[1;33m]\u001b[0m\u001b[1;33m\u001b[0m\u001b[1;33m\u001b[0m\u001b[0m\n\u001b[0m\u001b[0;32m     80\u001b[0m \u001b[1;33m\u001b[0m\u001b[0m\n\u001b[0;32m     81\u001b[0m     \u001b[1;32mdef\u001b[0m \u001b[0mstep\u001b[0m\u001b[1;33m(\u001b[0m\u001b[0mself\u001b[0m\u001b[1;33m)\u001b[0m \u001b[1;33m->\u001b[0m \u001b[1;32mNone\u001b[0m\u001b[1;33m:\u001b[0m\u001b[1;33m\u001b[0m\u001b[1;33m\u001b[0m\u001b[0m\n",
      "\u001b[1;31mKeyError\u001b[0m: 0.5537378398264245"
     ]
    }
   ],
   "source": [
    "sim.kill_midges\n",
    "for i in sim.kill_midges:\n",
    "    sim.grid._remove_agent(i.pos, i)\n",
    "    sim.schedule.remove(i)"
   ]
  },
  {
   "cell_type": "code",
   "execution_count": null,
   "metadata": {},
   "outputs": [],
   "source": [
    "sim.step()\n",
    "sim.grid[1][1]"
   ]
  },
  {
   "cell_type": "code",
   "execution_count": null,
   "metadata": {},
   "outputs": [],
   "source": [
    "sim.step()\n",
    "sim.grid[1][1]"
   ]
  },
  {
   "cell_type": "code",
   "execution_count": null,
   "metadata": {},
   "outputs": [],
   "source": [
    "sim.step()\n",
    "sim.trap.midgestrapped"
   ]
  },
  {
   "cell_type": "code",
   "execution_count": null,
   "metadata": {},
   "outputs": [],
   "source": [
    "sim.grid[1][1]"
   ]
  },
  {
   "cell_type": "code",
   "execution_count": null,
   "metadata": {},
   "outputs": [],
   "source": [
    "sim.trap.pos"
   ]
  },
  {
   "cell_type": "code",
   "execution_count": null,
   "metadata": {},
   "outputs": [],
   "source": [
    "sim.grid.place_agent(sim.trap, sim.trap.pos)\n",
    "sim.grid.get_neighbors(sim.trap.pos, moore=True, include_center=True)"
   ]
  },
  {
   "cell_type": "code",
   "execution_count": null,
   "metadata": {},
   "outputs": [],
   "source": []
  }
 ],
 "metadata": {
  "kernelspec": {
   "display_name": "Python 3",
   "language": "python",
   "name": "python3"
  },
  "language_info": {
   "codemirror_mode": {
    "name": "ipython",
    "version": 3
   },
   "file_extension": ".py",
   "mimetype": "text/x-python",
   "name": "python",
   "nbconvert_exporter": "python",
   "pygments_lexer": "ipython3",
   "version": "3.9.1"
  }
 },
 "nbformat": 4,
 "nbformat_minor": 4
}
